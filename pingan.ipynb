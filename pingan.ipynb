{
 "cells": [
  {
   "cell_type": "markdown",
   "metadata": {},
   "source": [
    "# 平安规模保费\n",
    "\n",
    "将下载的平安规模保费数据合并到一起"
   ]
  },
  {
   "cell_type": "code",
   "execution_count": 1,
   "metadata": {},
   "outputs": [],
   "source": [
    "import pandas as pd"
   ]
  },
  {
   "cell_type": "code",
   "execution_count": 3,
   "metadata": {},
   "outputs": [],
   "source": [
    "df1 = pd.read_csv('data/pingan/201801_1.csv')"
   ]
  },
  {
   "cell_type": "code",
   "execution_count": 10,
   "metadata": {},
   "outputs": [],
   "source": [
    "df1_2015 = pd.read_csv('data/pingan/201501_1.csv')"
   ]
  },
  {
   "cell_type": "code",
   "execution_count": 11,
   "metadata": {},
   "outputs": [],
   "source": [
    "df1_2016 = pd.read_csv('data/pingan/201601_1.csv')"
   ]
  },
  {
   "cell_type": "code",
   "execution_count": 12,
   "metadata": {},
   "outputs": [],
   "source": [
    "df1_2017 = pd.read_csv('data/pingan/201701_1.csv')"
   ]
  },
  {
   "cell_type": "code",
   "execution_count": 6,
   "metadata": {},
   "outputs": [],
   "source": [
    "df2 = pd.read_csv('data/pingan/201801_2.csv')"
   ]
  },
  {
   "cell_type": "code",
   "execution_count": 7,
   "metadata": {},
   "outputs": [],
   "source": [
    "df3 = pd.read_csv('data/pingan/201801_3.csv')"
   ]
  },
  {
   "cell_type": "code",
   "execution_count": 5,
   "metadata": {},
   "outputs": [
    {
     "data": {
      "text/html": [
       "<div>\n",
       "<style scoped>\n",
       "    .dataframe tbody tr th:only-of-type {\n",
       "        vertical-align: middle;\n",
       "    }\n",
       "\n",
       "    .dataframe tbody tr th {\n",
       "        vertical-align: top;\n",
       "    }\n",
       "\n",
       "    .dataframe thead th {\n",
       "        text-align: right;\n",
       "    }\n",
       "</style>\n",
       "<table border=\"1\" class=\"dataframe\">\n",
       "  <thead>\n",
       "    <tr style=\"text-align: right;\">\n",
       "      <th></th>\n",
       "      <th>控股子公司名称</th>\n",
       "      <th>2018年1月累计规模保费（人民币万元）</th>\n",
       "    </tr>\n",
       "  </thead>\n",
       "  <tbody>\n",
       "    <tr>\n",
       "      <th>0</th>\n",
       "      <td>中国平安财产保险股份有限公司</td>\n",
       "      <td>2742772</td>\n",
       "    </tr>\n",
       "    <tr>\n",
       "      <th>1</th>\n",
       "      <td>中国平安人寿保险股份有限公司</td>\n",
       "      <td>13931965</td>\n",
       "    </tr>\n",
       "    <tr>\n",
       "      <th>2</th>\n",
       "      <td>平安养老保险股份有限公司</td>\n",
       "      <td>192022</td>\n",
       "    </tr>\n",
       "    <tr>\n",
       "      <th>3</th>\n",
       "      <td>平安健康保险股份有限公司</td>\n",
       "      <td>35231</td>\n",
       "    </tr>\n",
       "  </tbody>\n",
       "</table>\n",
       "</div>"
      ],
      "text/plain": [
       "          控股子公司名称  2018年1月累计规模保费（人民币万元）\n",
       "0  中国平安财产保险股份有限公司               2742772\n",
       "1  中国平安人寿保险股份有限公司              13931965\n",
       "2    平安养老保险股份有限公司                192022\n",
       "3    平安健康保险股份有限公司                 35231"
      ]
     },
     "execution_count": 5,
     "metadata": {},
     "output_type": "execute_result"
    }
   ],
   "source": [
    "df1"
   ]
  },
  {
   "cell_type": "code",
   "execution_count": 8,
   "metadata": {},
   "outputs": [
    {
     "data": {
      "text/html": [
       "<div>\n",
       "<style scoped>\n",
       "    .dataframe tbody tr th:only-of-type {\n",
       "        vertical-align: middle;\n",
       "    }\n",
       "\n",
       "    .dataframe tbody tr th {\n",
       "        vertical-align: top;\n",
       "    }\n",
       "\n",
       "    .dataframe thead th {\n",
       "        text-align: right;\n",
       "    }\n",
       "</style>\n",
       "<table border=\"1\" class=\"dataframe\">\n",
       "  <thead>\n",
       "    <tr style=\"text-align: right;\">\n",
       "      <th></th>\n",
       "      <th>业务分类</th>\n",
       "      <th>2018年1月累计规模保费（人民币万元）</th>\n",
       "    </tr>\n",
       "  </thead>\n",
       "  <tbody>\n",
       "    <tr>\n",
       "      <th>0</th>\n",
       "      <td>寿险业务*</td>\n",
       "      <td>NaN</td>\n",
       "    </tr>\n",
       "    <tr>\n",
       "      <th>1</th>\n",
       "      <td>个人寿险</td>\n",
       "      <td>13991683.0</td>\n",
       "    </tr>\n",
       "    <tr>\n",
       "      <th>2</th>\n",
       "      <td>新业务</td>\n",
       "      <td>3959876.0</td>\n",
       "    </tr>\n",
       "    <tr>\n",
       "      <th>3</th>\n",
       "      <td>续期业务</td>\n",
       "      <td>10031807.0</td>\n",
       "    </tr>\n",
       "    <tr>\n",
       "      <th>4</th>\n",
       "      <td>银行保险</td>\n",
       "      <td>NaN</td>\n",
       "    </tr>\n",
       "    <tr>\n",
       "      <th>5</th>\n",
       "      <td>新业务</td>\n",
       "      <td>NaN</td>\n",
       "    </tr>\n",
       "    <tr>\n",
       "      <th>6</th>\n",
       "      <td>续期业务</td>\n",
       "      <td>NaN</td>\n",
       "    </tr>\n",
       "    <tr>\n",
       "      <th>7</th>\n",
       "      <td>团体保险</td>\n",
       "      <td>167535.0</td>\n",
       "    </tr>\n",
       "    <tr>\n",
       "      <th>8</th>\n",
       "      <td>新业务</td>\n",
       "      <td>167201.0</td>\n",
       "    </tr>\n",
       "    <tr>\n",
       "      <th>9</th>\n",
       "      <td>续期业务</td>\n",
       "      <td>334.0</td>\n",
       "    </tr>\n",
       "    <tr>\n",
       "      <th>10</th>\n",
       "      <td>合计</td>\n",
       "      <td>14159218.0</td>\n",
       "    </tr>\n",
       "  </tbody>\n",
       "</table>\n",
       "</div>"
      ],
      "text/plain": [
       "     业务分类  2018年1月累计规模保费（人民币万元）\n",
       "0   寿险业务*                   NaN\n",
       "1    个人寿险            13991683.0\n",
       "2     新业务             3959876.0\n",
       "3    续期业务            10031807.0\n",
       "4    银行保险                   NaN\n",
       "5     新业务                   NaN\n",
       "6    续期业务                   NaN\n",
       "7    团体保险              167535.0\n",
       "8     新业务              167201.0\n",
       "9    续期业务                 334.0\n",
       "10     合计            14159218.0"
      ]
     },
     "execution_count": 8,
     "metadata": {},
     "output_type": "execute_result"
    }
   ],
   "source": [
    "df2"
   ]
  },
  {
   "cell_type": "code",
   "execution_count": 9,
   "metadata": {},
   "outputs": [
    {
     "data": {
      "text/html": [
       "<div>\n",
       "<style scoped>\n",
       "    .dataframe tbody tr th:only-of-type {\n",
       "        vertical-align: middle;\n",
       "    }\n",
       "\n",
       "    .dataframe tbody tr th {\n",
       "        vertical-align: top;\n",
       "    }\n",
       "\n",
       "    .dataframe thead th {\n",
       "        text-align: right;\n",
       "    }\n",
       "</style>\n",
       "<table border=\"1\" class=\"dataframe\">\n",
       "  <thead>\n",
       "    <tr style=\"text-align: right;\">\n",
       "      <th></th>\n",
       "      <th>业务分类</th>\n",
       "      <th>2018年1月累计规模保费（人民币万元）</th>\n",
       "    </tr>\n",
       "  </thead>\n",
       "  <tbody>\n",
       "    <tr>\n",
       "      <th>0</th>\n",
       "      <td>中国平安财产保险股份有限公司</td>\n",
       "      <td>NaN</td>\n",
       "    </tr>\n",
       "    <tr>\n",
       "      <th>1</th>\n",
       "      <td>车险</td>\n",
       "      <td>1903357.0</td>\n",
       "    </tr>\n",
       "    <tr>\n",
       "      <th>2</th>\n",
       "      <td>非机动车辆保险</td>\n",
       "      <td>748007.0</td>\n",
       "    </tr>\n",
       "    <tr>\n",
       "      <th>3</th>\n",
       "      <td>意外与健康险</td>\n",
       "      <td>91408.0</td>\n",
       "    </tr>\n",
       "    <tr>\n",
       "      <th>4</th>\n",
       "      <td>合计</td>\n",
       "      <td>2742772.0</td>\n",
       "    </tr>\n",
       "  </tbody>\n",
       "</table>\n",
       "</div>"
      ],
      "text/plain": [
       "             业务分类  2018年1月累计规模保费（人民币万元）\n",
       "0  中国平安财产保险股份有限公司                   NaN\n",
       "1              车险             1903357.0\n",
       "2         非机动车辆保险              748007.0\n",
       "3          意外与健康险               91408.0\n",
       "4              合计             2742772.0"
      ]
     },
     "execution_count": 9,
     "metadata": {},
     "output_type": "execute_result"
    }
   ],
   "source": [
    "df3"
   ]
  },
  {
   "cell_type": "code",
   "execution_count": 13,
   "metadata": {},
   "outputs": [
    {
     "data": {
      "text/html": [
       "<div>\n",
       "<style scoped>\n",
       "    .dataframe tbody tr th:only-of-type {\n",
       "        vertical-align: middle;\n",
       "    }\n",
       "\n",
       "    .dataframe tbody tr th {\n",
       "        vertical-align: top;\n",
       "    }\n",
       "\n",
       "    .dataframe thead th {\n",
       "        text-align: right;\n",
       "    }\n",
       "</style>\n",
       "<table border=\"1\" class=\"dataframe\">\n",
       "  <thead>\n",
       "    <tr style=\"text-align: right;\">\n",
       "      <th></th>\n",
       "      <th>控股子公司名称</th>\n",
       "      <th>2015年1月累计规模保费（人民币万元）</th>\n",
       "    </tr>\n",
       "  </thead>\n",
       "  <tbody>\n",
       "    <tr>\n",
       "      <th>0</th>\n",
       "      <td>中国平安财产保险股份有限公司</td>\n",
       "      <td>1880723</td>\n",
       "    </tr>\n",
       "    <tr>\n",
       "      <th>1</th>\n",
       "      <td>中国平安人寿保险股份有限公司</td>\n",
       "      <td>5601409</td>\n",
       "    </tr>\n",
       "    <tr>\n",
       "      <th>2</th>\n",
       "      <td>平安养老保险股份有限公司</td>\n",
       "      <td>107629</td>\n",
       "    </tr>\n",
       "    <tr>\n",
       "      <th>3</th>\n",
       "      <td>平安健康保险股份有限公司</td>\n",
       "      <td>7725</td>\n",
       "    </tr>\n",
       "  </tbody>\n",
       "</table>\n",
       "</div>"
      ],
      "text/plain": [
       "          控股子公司名称  2015年1月累计规模保费（人民币万元）\n",
       "0  中国平安财产保险股份有限公司               1880723\n",
       "1  中国平安人寿保险股份有限公司               5601409\n",
       "2    平安养老保险股份有限公司                107629\n",
       "3    平安健康保险股份有限公司                  7725"
      ]
     },
     "execution_count": 13,
     "metadata": {},
     "output_type": "execute_result"
    }
   ],
   "source": [
    "df1_2015"
   ]
  },
  {
   "cell_type": "code",
   "execution_count": 14,
   "metadata": {},
   "outputs": [
    {
     "data": {
      "text/html": [
       "<div>\n",
       "<style scoped>\n",
       "    .dataframe tbody tr th:only-of-type {\n",
       "        vertical-align: middle;\n",
       "    }\n",
       "\n",
       "    .dataframe tbody tr th {\n",
       "        vertical-align: top;\n",
       "    }\n",
       "\n",
       "    .dataframe thead th {\n",
       "        text-align: right;\n",
       "    }\n",
       "</style>\n",
       "<table border=\"1\" class=\"dataframe\">\n",
       "  <thead>\n",
       "    <tr style=\"text-align: right;\">\n",
       "      <th></th>\n",
       "      <th>控股子公司名称</th>\n",
       "      <th>2016年1月累计规模保费（人民币万元）</th>\n",
       "    </tr>\n",
       "  </thead>\n",
       "  <tbody>\n",
       "    <tr>\n",
       "      <th>0</th>\n",
       "      <td>中国平安财产保险股份有限公司</td>\n",
       "      <td>1991090</td>\n",
       "    </tr>\n",
       "    <tr>\n",
       "      <th>1</th>\n",
       "      <td>中国平安人寿保险股份有限公司</td>\n",
       "      <td>7752987</td>\n",
       "    </tr>\n",
       "    <tr>\n",
       "      <th>2</th>\n",
       "      <td>平安养老保险股份有限公司</td>\n",
       "      <td>150244</td>\n",
       "    </tr>\n",
       "    <tr>\n",
       "      <th>3</th>\n",
       "      <td>平安健康保险股份有限公司</td>\n",
       "      <td>9901</td>\n",
       "    </tr>\n",
       "  </tbody>\n",
       "</table>\n",
       "</div>"
      ],
      "text/plain": [
       "          控股子公司名称  2016年1月累计规模保费（人民币万元）\n",
       "0  中国平安财产保险股份有限公司               1991090\n",
       "1  中国平安人寿保险股份有限公司               7752987\n",
       "2    平安养老保险股份有限公司                150244\n",
       "3    平安健康保险股份有限公司                  9901"
      ]
     },
     "execution_count": 14,
     "metadata": {},
     "output_type": "execute_result"
    }
   ],
   "source": [
    "df1_2016"
   ]
  },
  {
   "cell_type": "code",
   "execution_count": 15,
   "metadata": {},
   "outputs": [
    {
     "data": {
      "text/html": [
       "<div>\n",
       "<style scoped>\n",
       "    .dataframe tbody tr th:only-of-type {\n",
       "        vertical-align: middle;\n",
       "    }\n",
       "\n",
       "    .dataframe tbody tr th {\n",
       "        vertical-align: top;\n",
       "    }\n",
       "\n",
       "    .dataframe thead th {\n",
       "        text-align: right;\n",
       "    }\n",
       "</style>\n",
       "<table border=\"1\" class=\"dataframe\">\n",
       "  <thead>\n",
       "    <tr style=\"text-align: right;\">\n",
       "      <th></th>\n",
       "      <th>控股子公司名称</th>\n",
       "      <th>2017年1月累计规模保费（人民币万元）</th>\n",
       "    </tr>\n",
       "  </thead>\n",
       "  <tbody>\n",
       "    <tr>\n",
       "      <th>0</th>\n",
       "      <td>中国平安财产保险股份有限公司</td>\n",
       "      <td>2371673</td>\n",
       "    </tr>\n",
       "    <tr>\n",
       "      <th>1</th>\n",
       "      <td>中国平安人寿保险股份有限公司</td>\n",
       "      <td>10574368</td>\n",
       "    </tr>\n",
       "    <tr>\n",
       "      <th>2</th>\n",
       "      <td>平安养老保险股份有限公司</td>\n",
       "      <td>133318</td>\n",
       "    </tr>\n",
       "    <tr>\n",
       "      <th>3</th>\n",
       "      <td>平安健康保险股份有限公司</td>\n",
       "      <td>26029</td>\n",
       "    </tr>\n",
       "  </tbody>\n",
       "</table>\n",
       "</div>"
      ],
      "text/plain": [
       "          控股子公司名称  2017年1月累计规模保费（人民币万元）\n",
       "0  中国平安财产保险股份有限公司               2371673\n",
       "1  中国平安人寿保险股份有限公司              10574368\n",
       "2    平安养老保险股份有限公司                133318\n",
       "3    平安健康保险股份有限公司                 26029"
      ]
     },
     "execution_count": 15,
     "metadata": {},
     "output_type": "execute_result"
    }
   ],
   "source": [
    "df1_2017"
   ]
  },
  {
   "cell_type": "markdown",
   "metadata": {},
   "source": [
    "# 各公司表格一致\n",
    "\n",
    "由于为累计数据，各年度分开统计更好"
   ]
  },
  {
   "cell_type": "code",
   "execution_count": 25,
   "metadata": {},
   "outputs": [],
   "source": [
    "#读取2017年度各月分公司累计保费\n",
    "def get_year_data(year, num):\n",
    "    filenames=[year+str(i).zfill(2)+'_'+num for i in range(1, 13)]\n",
    "    filepath=['data/pingan/'+i+'.csv' for i in filenames]\n",
    "    print(filepath)\n",
    "    dfs=[pd.read_csv(i) for i in filepath]\n",
    "    return filepath\n",
    "    "
   ]
  },
  {
   "cell_type": "code",
   "execution_count": 27,
   "metadata": {},
   "outputs": [
    {
     "name": "stdout",
     "output_type": "stream",
     "text": [
      "['data/pingan/201701_1.csv', 'data/pingan/201702_1.csv', 'data/pingan/201703_1.csv', 'data/pingan/201704_1.csv', 'data/pingan/201705_1.csv', 'data/pingan/201706_1.csv', 'data/pingan/201707_1.csv', 'data/pingan/201708_1.csv', 'data/pingan/201709_1.csv', 'data/pingan/201710_1.csv', 'data/pingan/201711_1.csv', 'data/pingan/201712_1.csv']\n"
     ]
    },
    {
     "data": {
      "text/plain": [
       "['data/pingan/201701_1.csv',\n",
       " 'data/pingan/201702_1.csv',\n",
       " 'data/pingan/201703_1.csv',\n",
       " 'data/pingan/201704_1.csv',\n",
       " 'data/pingan/201705_1.csv',\n",
       " 'data/pingan/201706_1.csv',\n",
       " 'data/pingan/201707_1.csv',\n",
       " 'data/pingan/201708_1.csv',\n",
       " 'data/pingan/201709_1.csv',\n",
       " 'data/pingan/201710_1.csv',\n",
       " 'data/pingan/201711_1.csv',\n",
       " 'data/pingan/201712_1.csv']"
      ]
     },
     "execution_count": 27,
     "metadata": {},
     "output_type": "execute_result"
    }
   ],
   "source": [
    "get_year_data('2017','1')"
   ]
  },
  {
   "cell_type": "code",
   "execution_count": 28,
   "metadata": {},
   "outputs": [
    {
     "name": "stdout",
     "output_type": "stream",
     "text": [
      "['data/pingan/201701_1.csv', 'data/pingan/201702_1.csv', 'data/pingan/201703_1.csv', 'data/pingan/201704_1.csv', 'data/pingan/201705_1.csv', 'data/pingan/201706_1.csv', 'data/pingan/201707_1.csv', 'data/pingan/201708_1.csv', 'data/pingan/201709_1.csv', 'data/pingan/201710_1.csv', 'data/pingan/201711_1.csv', 'data/pingan/201712_1.csv']\n"
     ]
    }
   ],
   "source": [
    "dfs=[pd.read_csv(i) for i in get_year_data('2017','1')]"
   ]
  },
  {
   "cell_type": "code",
   "execution_count": 29,
   "metadata": {},
   "outputs": [
    {
     "data": {
      "text/html": [
       "<div>\n",
       "<style scoped>\n",
       "    .dataframe tbody tr th:only-of-type {\n",
       "        vertical-align: middle;\n",
       "    }\n",
       "\n",
       "    .dataframe tbody tr th {\n",
       "        vertical-align: top;\n",
       "    }\n",
       "\n",
       "    .dataframe thead th {\n",
       "        text-align: right;\n",
       "    }\n",
       "</style>\n",
       "<table border=\"1\" class=\"dataframe\">\n",
       "  <thead>\n",
       "    <tr style=\"text-align: right;\">\n",
       "      <th></th>\n",
       "      <th>控股子公司名称</th>\n",
       "      <th>2017年1月累计规模保费（人民币万元）</th>\n",
       "    </tr>\n",
       "  </thead>\n",
       "  <tbody>\n",
       "    <tr>\n",
       "      <th>0</th>\n",
       "      <td>中国平安财产保险股份有限公司</td>\n",
       "      <td>2371673</td>\n",
       "    </tr>\n",
       "    <tr>\n",
       "      <th>1</th>\n",
       "      <td>中国平安人寿保险股份有限公司</td>\n",
       "      <td>10574368</td>\n",
       "    </tr>\n",
       "    <tr>\n",
       "      <th>2</th>\n",
       "      <td>平安养老保险股份有限公司</td>\n",
       "      <td>133318</td>\n",
       "    </tr>\n",
       "    <tr>\n",
       "      <th>3</th>\n",
       "      <td>平安健康保险股份有限公司</td>\n",
       "      <td>26029</td>\n",
       "    </tr>\n",
       "  </tbody>\n",
       "</table>\n",
       "</div>"
      ],
      "text/plain": [
       "          控股子公司名称  2017年1月累计规模保费（人民币万元）\n",
       "0  中国平安财产保险股份有限公司               2371673\n",
       "1  中国平安人寿保险股份有限公司              10574368\n",
       "2    平安养老保险股份有限公司                133318\n",
       "3    平安健康保险股份有限公司                 26029"
      ]
     },
     "execution_count": 29,
     "metadata": {},
     "output_type": "execute_result"
    }
   ],
   "source": [
    "dfs[0]"
   ]
  },
  {
   "cell_type": "code",
   "execution_count": null,
   "metadata": {},
   "outputs": [],
   "source": []
  }
 ],
 "metadata": {
  "kernelspec": {
   "display_name": "Python 3",
   "language": "python",
   "name": "python3"
  },
  "language_info": {
   "codemirror_mode": {
    "name": "ipython",
    "version": 3
   },
   "file_extension": ".py",
   "mimetype": "text/x-python",
   "name": "python",
   "nbconvert_exporter": "python",
   "pygments_lexer": "ipython3",
   "version": "3.6.4"
  }
 },
 "nbformat": 4,
 "nbformat_minor": 2
}
